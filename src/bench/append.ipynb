{
 "cells": [
  {
   "cell_type": "code",
   "execution_count": 2,
   "metadata": {
    "collapsed": true
   },
   "outputs": [],
   "source": [
    "import sys\n",
    "import glob\n",
    "import os\n",
    "import re\n",
    "import pandas as pd\n",
    "import matplotlib\n",
    "import matplotlib.pyplot as plt\n",
    "import numpy as np\n",
    "import seaborn as sns\n",
    "import matplotlib.ticker as mtick\n",
    "%matplotlib inline"
   ]
  },
  {
   "cell_type": "code",
   "execution_count": 11,
   "metadata": {
    "collapsed": true
   },
   "outputs": [],
   "source": [
    "# rep1x/client0.nwatkins-qv27013.zlog-pg0.wisc.cloudlab.us.1499807976.nc-32.c-14.es-100.w-32.log\n",
    "def read_logs(pattern):\n",
    "    dfs = []\n",
    "    for fn in glob.glob(pattern):\n",
    "        m = re.match(\".+\\.(?P<ts>\\d+)\\.nc-(?P<nc>\\d+).c-(?P<c>\\d+).es-(?P<es>\\d+).w-(?P<w>\\d+)\", fn)\n",
    "        if not m:\n",
    "            continue\n",
    "        print fn\n",
    "        df = pd.read_csv(fn, sep=',', header=1, names=('start', 'end'))\n",
    "        df['ts'] = long(m.group('ts'))\n",
    "        df['nclients'] = long(m.group('nc'))\n",
    "        df['clientid'] = long(m.group('c'))\n",
    "        df['esize'] = long(m.group('es'))\n",
    "        df['width'] = long(m.group('w'))\n",
    "        df['lat_ms'] = (df['end'] - df['start']) / 1000000.0\n",
    "        dfs.append(df)\n",
    "    return pd.concat(dfs)"
   ]
  },
  {
   "cell_type": "code",
   "execution_count": 12,
   "metadata": {
    "collapsed": true
   },
   "outputs": [],
   "source": [
    "def plot(df):\n",
    "    for nclients in df.nclients.unique():\n",
    "        f, ax = plt.subplots(1, 1)\n",
    "        ax.set_title(\"%s clients\" % (nclients,))\n",
    "        dfnc = df[df.nclients == nclients]\n",
    "        entry_sizes = dfnc.esize.unique()\n",
    "        entry_sizes.sort()\n",
    "        for entry_size in entry_sizes:\n",
    "            label = \"%s bytes\" % (entry_size,)\n",
    "            dfes = dfnc[dfnc.esize == entry_size]\n",
    "            sns.distplot(dfes.head(1000).lat_ms,\n",
    "                         hist_kws=dict(cumulative=True),\n",
    "                         kde_kws=dict(cumulative=True),\n",
    "                         label=label, ax=ax)\n",
    "            ax.legend()\n",
    "        f.savefig(\"nclients-%s.png\" % (nclients,))"
   ]
  },
  {
   "cell_type": "code",
   "execution_count": null,
   "metadata": {
    "collapsed": true
   },
   "outputs": [],
   "source": [
    "for nc in [1,4,8,16,32]:\n",
    "    df = read_logs(\"rep1x/*.nc-%d.c-*.log\" % (nc,))\n",
    "    plot(df)"
   ]
  }
 ],
 "metadata": {
  "kernelspec": {
   "display_name": "Python 2",
   "language": "python",
   "name": "python2"
  },
  "language_info": {
   "codemirror_mode": {
    "name": "ipython",
    "version": 2
   },
   "file_extension": ".py",
   "mimetype": "text/x-python",
   "name": "python",
   "nbconvert_exporter": "python",
   "pygments_lexer": "ipython2",
   "version": "2.7.13"
  }
 },
 "nbformat": 4,
 "nbformat_minor": 2
}
